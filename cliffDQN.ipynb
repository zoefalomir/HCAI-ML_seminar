{
 "cells": [
  {
   "cell_type": "code",
   "execution_count": 1,
   "metadata": {},
   "outputs": [
    {
     "data": {
      "text/html": [
       "<img src=\"https://i.imgur.com/gDhvcuP.png\"/>"
      ],
      "text/plain": [
       "<IPython.core.display.Image object>"
      ]
     },
     "execution_count": 1,
     "metadata": {},
     "output_type": "execute_result"
    }
   ],
   "source": [
    "from IPython.display import Image\n",
    "Image(url=\"https://i.imgur.com/gDhvcuP.png\")"
   ]
  },
  {
   "cell_type": "code",
   "execution_count": 2,
   "metadata": {},
   "outputs": [],
   "source": [
    "import numpy as np\n",
    "import random\n",
    "import tensorflow as tf\n",
    "from collections import deque\n",
    "from tensorflow import keras\n",
    "from tensorflow.keras.models import Sequential\n",
    "from tensorflow.keras.layers import Dense\n",
    "from tensorflow.keras.optimizers import Adam\n",
    "import matplotlib.pyplot as plt\n",
    "import time"
   ]
  },
  {
   "cell_type": "code",
   "execution_count": 3,
   "metadata": {},
   "outputs": [],
   "source": [
    "ROWS = 6\n",
    "COLS = 10\n",
    "S = [ROWS-1, 0]\n",
    "G = [ROWS-1, COLS-1]"
   ]
  },
  {
   "cell_type": "code",
   "execution_count": 4,
   "metadata": {},
   "outputs": [],
   "source": [
    "class Cliff:\n",
    "    \n",
    "    def __init__(self):\n",
    "        \"\"\"\n",
    "        Initialize a cliff instance\n",
    "        \"\"\"\n",
    "        self.done = False\n",
    "        self.pos = S\n",
    "        self.board = np.zeros([ROWS, COLS])\n",
    "        # set the location of the cliff\n",
    "        self.board[ROWS-1, 1:-1] = -1\n",
    "        \n",
    "    def step(self, action):\n",
    "        \"\"\"\n",
    "        Given an action, return the agent's next position\n",
    "        \"\"\"\n",
    "        assert action in [0, 1, 2, 3]\n",
    "        # up\n",
    "        if action == 0:\n",
    "            next_pos = [self.pos[0]-1, self.pos[1]]\n",
    "        # down\n",
    "        elif action == 1:\n",
    "            next_pos = [self.pos[0]+1, self.pos[1]]\n",
    "        # left\n",
    "        elif action == 2:\n",
    "            next_pos = [self.pos[0], self.pos[1]-1]\n",
    "        # right\n",
    "        else:\n",
    "            next_pos = [self.pos[0], self.pos[1]+1]\n",
    "\n",
    "        # make sure that the agent does not go out of bounds\n",
    "        if next_pos[0] >= 0 and next_pos[0] < ROWS:\n",
    "            if next_pos[1] >= 0 and next_pos[1] < COLS:\n",
    "                self.pos = next_pos\n",
    "        \n",
    "        # reward per step\n",
    "        reward = -5.0\n",
    "        self.done = False\n",
    "        \n",
    "        if self.pos == G:\n",
    "            self.done = True\n",
    "            reward = 100\n",
    "            print(\"Reached goal\")\n",
    "        \n",
    "        if self.board[self.pos[0], self.pos[1]] == -1:\n",
    "            self.done = True\n",
    "            reward = -100.0\n",
    "            print(\"Fell off cliff\")\n",
    "            \n",
    "        return self.pos, reward, self.done\n",
    "    \n",
    "    def reset(self):\n",
    "        \"\"\"\n",
    "        Resets the agent's position to the starting position\n",
    "        \"\"\"\n",
    "        self.pos = S\n",
    "        return self.pos\n",
    "    \n",
    "    def show(self):\n",
    "        \"\"\"\n",
    "        Displays the cliff environment\n",
    "        \"\"\"\n",
    "        for i in range(ROWS):\n",
    "            print('----' * COLS + '-')\n",
    "            out = '| '\n",
    "            for j in range(COLS):\n",
    "                if self.board[i, j] == -1:\n",
    "                    token = 'x'\n",
    "                if self.board[i, j] == 0:\n",
    "                    token = 'o'\n",
    "                if [i, j] == self.pos:\n",
    "                    token = 'S'\n",
    "                if [i, j] == G:\n",
    "                    token = 'G'\n",
    "                out += token + ' | '\n",
    "            print(out)\n",
    "        print('----' * COLS + '-')"
   ]
  },
  {
   "cell_type": "code",
   "execution_count": 5,
   "metadata": {},
   "outputs": [],
   "source": [
    "class DQNAgent:\n",
    "    def __init__(self, state_size, action_size):\n",
    "        \"\"\"\n",
    "        Initialize the DQN Agent\n",
    "        \"\"\"\n",
    "        self.state_size = state_size\n",
    "        self.action_size = action_size\n",
    "        self.memory = deque(maxlen=2000)\n",
    "        self.gamma = 0.9   \n",
    "        self.epsilon = 1.0 \n",
    "        self.epsilon_min = 0.01\n",
    "        self.epsilon_decay = 0.99995 \n",
    "        self.learning_rate = 0.001\n",
    "        self.model = self._build_model()\n",
    "\n",
    "    def _build_model(self):\n",
    "        \"\"\"\n",
    "        Builds a simple Q-Network composed of linear layers\n",
    "        \"\"\"\n",
    "        model = Sequential()\n",
    "        model.add(Dense(24, input_dim=self.state_size, activation='relu'))\n",
    "        model.add(Dense(24, activation='relu'))\n",
    "        model.add(Dense(self.action_size, activation='linear'))\n",
    "        model.compile(loss='mse', optimizer=Adam(learning_rate=self.learning_rate))\n",
    "        return model\n",
    "\n",
    "    def memorize(self, state, action, reward, next_state, done):\n",
    "        self.memory.append((state, action, reward, next_state, done))\n",
    "\n",
    "    def act(self, state):\n",
    "        \"\"\"\n",
    "        Given a state, returns the action the agent takes\n",
    "        \"\"\"\n",
    "        # randomly select action\n",
    "        if np.random.rand() <= self.epsilon:\n",
    "            return random.randrange(self.action_size)\n",
    "        \n",
    "        # use Q-Network to predict action\n",
    "        act_values = self.model.predict(state)\n",
    "        return np.argmax(act_values[0])  \n",
    "\n",
    "    def replay(self, batch_size):\n",
    "        \"\"\"\n",
    "        Trains the Q-Network using experiences in the agent's memory\n",
    "        \"\"\"\n",
    "        minibatch = random.sample(self.memory, batch_size)\n",
    "        states, targets_f = [], []\n",
    "        for state, action, reward, next_state, done in minibatch:\n",
    "            # if done, set target = reward\n",
    "            target = reward\n",
    "            # if not done, predict future discounted reward with the Bellman equation\n",
    "            if not done:\n",
    "                target = (reward + self.gamma * np.amax(self.model.predict(next_state)[0]))\n",
    "            target_f = self.model.predict(state)\n",
    "            target_f[0][action] = target \n",
    "            # filtering out states and targets for training\n",
    "            states.append(state[0])\n",
    "            targets_f.append(target_f[0])\n",
    "        history = self.model.fit(np.array(states), np.array(targets_f), epochs=1, verbose=0)\n",
    "        # keeping track of loss\n",
    "        loss = history.history['loss'][0]\n",
    "        if self.epsilon > self.epsilon_min:\n",
    "            self.epsilon *= self.epsilon_decay\n",
    "        return loss\n",
    "\n",
    "    def load(self, name):\n",
    "        self.model.load_weights(name)\n",
    "\n",
    "    def save(self, name):\n",
    "        self.model.save_weights(name)"
   ]
  },
  {
   "cell_type": "code",
   "execution_count": 6,
   "metadata": {},
   "outputs": [
    {
     "name": "stdout",
     "output_type": "stream",
     "text": [
      "-----------------------------------------\n",
      "| o | o | o | o | o | o | o | o | o | o | \n",
      "-----------------------------------------\n",
      "| o | o | o | o | o | o | o | o | o | o | \n",
      "-----------------------------------------\n",
      "| o | o | o | o | o | o | o | o | o | o | \n",
      "-----------------------------------------\n",
      "| o | o | o | o | o | o | o | o | o | o | \n",
      "-----------------------------------------\n",
      "| o | o | o | o | o | o | o | o | o | o | \n",
      "-----------------------------------------\n",
      "| S | x | x | x | x | x | x | x | x | G | \n",
      "-----------------------------------------\n"
     ]
    }
   ],
   "source": [
    "env = Cliff()\n",
    "state_size = 2 # state = (x, y) coordinate of agent's location\n",
    "action_size = 4 # action: go up, down, left, or right\n",
    "agent = DQNAgent(state_size, action_size)\n",
    "# agent.load(\"./agent_weights.h5\")\n",
    "batch_size = 64\n",
    "env.show()"
   ]
  },
  {
   "cell_type": "code",
   "execution_count": 7,
   "metadata": {
    "scrolled": false
   },
   "outputs": [
    {
     "name": "stdout",
     "output_type": "stream",
     "text": [
      "Fell off cliff\n",
      "episode: 0/5, timestep: 0, epsilon: 1.0\n",
      "HEATMAP FOR EPISODE 0\n",
      "[[0 0 0 0 0 0 0 0 0 0]\n",
      " [0 0 0 0 0 0 0 0 0 0]\n",
      " [0 0 0 0 0 0 0 0 0 0]\n",
      " [0 0 0 0 0 0 0 0 0 0]\n",
      " [0 0 0 0 0 0 0 0 0 0]\n",
      " [0 1 0 0 0 0 0 0 0 0]]\n"
     ]
    },
    {
     "data": {
      "image/png": "[encoded data removed]",
      "text/plain": [
       "<Figure size 432x288 with 1 Axes>"
      ]
     },
     "metadata": {
      "needs_background": "light"
     },
     "output_type": "display_data"
    },
    {
     "name": "stdout",
     "output_type": "stream",
     "text": [
      "~~~~~~~~~\n",
      "Time for episode 0 = 0m 0s\n",
      "~~~~~~~~~\n",
      "Fell off cliff\n",
      "episode: 1/5, timestep: 2, epsilon: 1.0\n",
      "HEATMAP FOR EPISODE 1\n",
      "[[0 0 0 0 0 0 0 0 0 0]\n",
      " [0 0 0 0 0 0 0 0 0 0]\n",
      " [0 0 0 0 0 0 0 0 0 0]\n",
      " [0 0 0 0 0 0 0 0 0 0]\n",
      " [0 0 0 0 0 0 0 0 0 0]\n",
      " [2 2 0 0 0 0 0 0 0 0]]\n"
     ]
    },
    {
     "data": {
      "image/png": "[encoded data removed]",
      "text/plain": [
       "<Figure size 432x288 with 1 Axes>"
      ]
     },
     "metadata": {
      "needs_background": "light"
     },
     "output_type": "display_data"
    },
    {
     "name": "stdout",
     "output_type": "stream",
     "text": [
      "~~~~~~~~~\n",
      "Time for episode 1 = 0m 0s\n",
      "~~~~~~~~~\n",
      "Time for episode 2 = 0m 0s\n",
      "~~~~~~~~~\n",
      "Fell off cliff\n",
      "episode: 3/5, timestep: 6, epsilon: 1.0\n",
      "HEATMAP FOR EPISODE 3\n",
      "[[0 0 1 2 5 6 1 0 0 0]\n",
      " [1 0 2 1 3 2 0 0 0 0]\n",
      " [3 1 3 0 2 2 0 0 0 0]\n",
      " [6 3 2 0 1 2 0 0 0 0]\n",
      " [4 1 1 0 0 0 0 0 0 0]\n",
      " [3 3 0 0 0 0 0 0 0 0]]\n"
     ]
    },
    {
     "data": {
      "image/png": "[encoded data removed]",
      "text/plain": [
       "<Figure size 432x288 with 1 Axes>"
      ]
     },
     "metadata": {
      "needs_background": "light"
     },
     "output_type": "display_data"
    },
    {
     "name": "stdout",
     "output_type": "stream",
     "text": [
      "~~~~~~~~~\n",
      "Time for episode 3 = 0m 0s\n",
      "~~~~~~~~~\n",
      "Fell off cliff\n",
      "episode: 4/5, timestep: 1, epsilon: 1.0\n",
      "HEATMAP FOR EPISODE 4\n",
      "[[0 0 1 2 5 6 1 0 0 0]\n",
      " [1 0 2 1 3 2 0 0 0 0]\n",
      " [3 1 3 0 2 2 0 0 0 0]\n",
      " [6 3 2 0 1 2 0 0 0 0]\n",
      " [4 1 1 0 0 0 0 0 0 0]\n",
      " [4 4 0 0 0 0 0 0 0 0]]\n"
     ]
    },
    {
     "data": {
      "image/png": "[encoded data removed]",
      "text/plain": [
       "<Figure size 432x288 with 1 Axes>"
      ]
     },
     "metadata": {
      "needs_background": "light"
     },
     "output_type": "display_data"
    },
    {
     "name": "stdout",
     "output_type": "stream",
     "text": [
      "~~~~~~~~~\n",
      "Time for episode 4 = 0m 0s\n",
      "~~~~~~~~~\n"
     ]
    }
   ],
   "source": [
    "# Train the agent\n",
    "\n",
    "EPISODES = 5 # change to 5000 if actually training\n",
    "heatmap = np.zeros([ROWS, COLS])\n",
    "\n",
    "for e in range(EPISODES):\n",
    "    since = time.time()\n",
    "    state = env.reset()\n",
    "    state = np.reshape(state, [1, state_size])\n",
    "    for t in range(50): # change to 500 if actually training\n",
    "        action = agent.act(state)\n",
    "        next_state, reward, done = env.step(action)\n",
    "        next_state = np.reshape(next_state, [1, state_size])\n",
    "        agent.memorize(state, action, reward, next_state, done)\n",
    "        state = next_state\n",
    "        \n",
    "        # CREATE/SAVE HEATMAP\n",
    "        heatmap[state[0][0]][state[0][1]] += 1\n",
    "        np.savetxt(\"heatmap.txt\", heatmap)\n",
    "        \n",
    "        if done:\n",
    "            print(\"episode: {}/{}, timestep: {}, epsilon: {}\".format(e, EPISODES, t, agent.epsilon)) \n",
    "            print(\"HEATMAP FOR EPISODE {}\".format(e))\n",
    "            print(heatmap.astype(\"int\"))\n",
    "            plt.imshow(heatmap)\n",
    "            plt.show()\n",
    "            print(\"~~~~~~~~~\")\n",
    "            break\n",
    "        \n",
    "        if len(agent.memory) > batch_size:\n",
    "            loss = agent.replay(batch_size)\n",
    "            # logging training loss every 10 timesteps\n",
    "            if t % 10 == 0:\n",
    "                print(\"episode: {}/{}, timestep: {}, epsilon: {}\".format(e, EPISODES, t, agent.epsilon)) \n",
    "                print(\"HEATMAP FOR EPISODE {}\".format(e))\n",
    "                print(heatmap.astype(\"int\"))\n",
    "                plt.imshow(heatmap)\n",
    "                plt.show()\n",
    "                print(\"~~~~~~~~~\")\n",
    "    \n",
    "    # agent.save(\"./agent_weights.h5\")\n",
    "    # print(\"saved weights at episode {}\".format(e))\n",
    "    print('Time for episode {} = {:.0f}m {:.0f}s'.format(e, (time.time() - since) // 60, (time.time() - since) % 60))\n",
    "    print(\"~~~~~~~~~\")"
   ]
  },
  {
   "cell_type": "code",
   "execution_count": 8,
   "metadata": {},
   "outputs": [],
   "source": [
    "# Test the trained agent\n",
    "\n",
    "# set epsilon to 0 to make the policy deterministic\n",
    "# agent.epsilon = 0.0\n",
    "\n",
    "# def show_route(states):\n",
    "#     \"\"\"\n",
    "#     Shows the route the agent took from the start to the goal\n",
    "#     \"\"\"\n",
    "#     board = np.zeros([ROWS, COLS])\n",
    "#     # add cliff marked as -1\n",
    "#     board[ROWS-1, 1:-1] = -1\n",
    "#     for i in range(ROWS):\n",
    "#         print('----' * COLS + '-')\n",
    "#         out = '| '\n",
    "#         for j in range(COLS):\n",
    "#             token = ' '\n",
    "#             if board[i, j] == -1:\n",
    "#                 token = 'x'\n",
    "#             if [i, j] in states:\n",
    "#                 token = 'R'\n",
    "#             if [i, j] == G:\n",
    "#                 token = 'G'\n",
    "#             if [i, j] == S:\n",
    "#                 token = 'S'\n",
    "#             out += token + ' | '\n",
    "#         print(out)\n",
    "#     print('----' * COLS + '-') \n",
    "\n",
    "# states = []\n",
    "# state = env.reset()\n",
    "# state = np.reshape(state, [1, state_size])\n",
    "# action_map = {0: \"up\", 1: \"down\", 2: \"left\", 3: \"right\"}\n",
    "\n",
    "# while True:\n",
    "#     action = agent.act(state)\n",
    "#     print(\"state: {} action: {}\".format(state, action_map[action]))\n",
    "#     next_state, reward, done = env.step(action)\n",
    "#     states.append(next_state)\n",
    "#     next_state = np.reshape(next_state, [1, state_size])\n",
    "#     state = next_state\n",
    "#     if done:\n",
    "#         break\n",
    "        \n",
    "# show_route(states)"
   ]
  }
 ],
 "metadata": {
  "kernelspec": {
   "display_name": "Python 3",
   "language": "python",
   "name": "python3"
  },
  "language_info": {
   "codemirror_mode": {
    "name": "ipython",
    "version": 3
   },
   "file_extension": ".py",
   "mimetype": "text/x-python",
   "name": "python",
   "nbconvert_exporter": "python",
   "pygments_lexer": "ipython3",
   "version": "3.8.10"
  }
 },
 "nbformat": 4,
 "nbformat_minor": 2
}
